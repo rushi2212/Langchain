{
 "cells": [
  {
   "cell_type": "code",
   "execution_count": null,
   "id": "455a3812",
   "metadata": {},
   "outputs": [],
   "source": [
    "import os\n",
    "os.environ[\"GEMINI_API_KEY\"] = \"Your_Gemini_API_Key\""
   ]
  },
  {
   "cell_type": "code",
   "execution_count": 37,
   "id": "08d3974f",
   "metadata": {},
   "outputs": [
    {
     "name": "stdout",
     "output_type": "stream",
     "text": [
      "Note: you may need to restart the kernel to use updated packages.\n"
     ]
    }
   ],
   "source": [
    "%pip install -q langchain-google-genai langchain requests langchain-core langchain-community duckduckgo-search"
   ]
  },
  {
   "cell_type": "code",
   "execution_count": 38,
   "id": "27ec3228",
   "metadata": {},
   "outputs": [],
   "source": [
    "from langchain_google_genai import ChatGoogleGenerativeAI\n",
    "from langchain_core.tools import tool\n",
    "import requests"
   ]
  },
  {
   "cell_type": "code",
   "execution_count": 39,
   "id": "3110e428",
   "metadata": {},
   "outputs": [],
   "source": [
    "from langchain_community.tools import DuckDuckGoSearchRun\n",
    "\n",
    "search_tool = DuckDuckGoSearchRun()\n",
    "\n",
    "result = search_tool.invoke(\"Top news in India ?\")"
   ]
  },
  {
   "cell_type": "code",
   "execution_count": 40,
   "id": "5ac003be",
   "metadata": {},
   "outputs": [
    {
     "data": {
      "text/plain": [
       "\"India News Today: Get latest India news and breaking news from India on Times of India. TOI brings the top news headlines from India on Politics, Elections, Current Affairs and more Check today's top 10 news stories, headline news, breaking news, latest news, politics news, sports news, entertainment news and business news on Times of India Headlines today: Get news headlines from India and around the world. Today's breaking news on politics, sports, entertainment, business, life style and many more on Times of India Latest News on Politics, India, Current affairs. The Times of India Covers all latest breaking news across India and world 3 days ago · Live News: Check our live blog for real-time updates on trending news, breaking news from India, World, Sports, entertainment, politics and more.\""
      ]
     },
     "execution_count": 40,
     "metadata": {},
     "output_type": "execute_result"
    }
   ],
   "source": [
    "result"
   ]
  },
  {
   "cell_type": "code",
   "execution_count": null,
   "id": "0faf2cb0",
   "metadata": {},
   "outputs": [],
   "source": [
    "@tool\n",
    "def get_current_weather(location: str) -> str:\n",
    "    \"\"\"Get the current weather in a given location\"\"\"\n",
    "    url = f\"https://api.openweathermap.org/data/2.5/weather?q={location}&appid=your_openweather_api_key\"\n",
    "    response = requests.get(url)\n",
    "    return response.json()"
   ]
  },
  {
   "cell_type": "code",
   "execution_count": 42,
   "id": "7d9a183f",
   "metadata": {},
   "outputs": [],
   "source": [
    "llm = ChatGoogleGenerativeAI(model=\"gemini-2.5-flash\")"
   ]
  },
  {
   "cell_type": "code",
   "execution_count": 43,
   "id": "6fa4cf26",
   "metadata": {},
   "outputs": [
    {
     "data": {
      "text/plain": [
       "AIMessage(content='Hi there! How can I help you today?', additional_kwargs={}, response_metadata={'prompt_feedback': {'block_reason': 0, 'safety_ratings': []}, 'finish_reason': 'STOP', 'model_name': 'gemini-2.5-flash', 'safety_ratings': []}, id='run--83eaa38b-d783-403f-83b4-b27a8e2469bd-0', usage_metadata={'input_tokens': 2, 'output_tokens': 33, 'total_tokens': 35, 'input_token_details': {'cache_read': 0}, 'output_token_details': {'reasoning': 23}})"
      ]
     },
     "execution_count": 43,
     "metadata": {},
     "output_type": "execute_result"
    }
   ],
   "source": [
    "llm.invoke(\"Hi\")"
   ]
  },
  {
   "cell_type": "code",
   "execution_count": 44,
   "id": "31f84ca4",
   "metadata": {},
   "outputs": [],
   "source": [
    "from langchain.agents import create_react_agent, AgentExecutor\n",
    "from langchain import hub"
   ]
  },
  {
   "cell_type": "code",
   "execution_count": 45,
   "id": "6618ac83",
   "metadata": {},
   "outputs": [],
   "source": [
    "# Step 2 : Pull the ReAct prompt from Langchain Hub\n",
    "prompt = hub.pull(\"hwchase17/react\") # pulls the standard ReAct agent prompt"
   ]
  },
  {
   "cell_type": "code",
   "execution_count": 46,
   "id": "a4349c82",
   "metadata": {},
   "outputs": [],
   "source": [
    "# Step 3 : Create the ReAct agent manually with the pulled prompt\n",
    "agent = create_react_agent(llm, [search_tool, get_current_weather], prompt=prompt)"
   ]
  },
  {
   "cell_type": "code",
   "execution_count": 47,
   "id": "734a60b3",
   "metadata": {},
   "outputs": [],
   "source": [
    "# Step 4 : Wrap it with AgentExecutor\n",
    "agent_executor = AgentExecutor(agent=agent, tools=[search_tool, get_current_weather], verbose=True)"
   ]
  },
  {
   "cell_type": "code",
   "execution_count": 48,
   "id": "406a53d4",
   "metadata": {},
   "outputs": [
    {
     "name": "stdout",
     "output_type": "stream",
     "text": [
      "\n",
      "\n",
      "\u001b[1m> Entering new AgentExecutor chain...\u001b[0m\n",
      "\u001b[32;1m\u001b[1;3mAction: duckduckgo_search\n",
      "Action Input: What is Madhya Pradesh\u001b[0m\u001b[36;1m\u001b[1;3mMadhya Pradesh in 1951. Madhya Padesh after States Reorganisation Act, 1956 with Bhopal as its capital.Due to Maratha rule over much of what is now Madhya Pradesh , Madhya Pradesh is home to the largest number of Marathis outside Maharashtra. Some of them include the sculptures of Khajuraho Temple, the wildlife at Bandhavgarh National Park, the architecture at Sanchi Stupa, among others. Read this article to the end to get your answers about what Madhya Pradesh is famous for and plan your next trip. Short Essay on Madhya Pradesh in English for Students. Madhya Pradesh , often referred to as the “Heart of India,” is a state known for its cultural diversity, historical significance, and natural beauty. Madhya Pradesh is famous for its forts, temples, wildlife tourism, and archaeological Buddhist sites. FAQ 2: What is the best time and season to visit Madhya Pradesh ? Madhya Pradesh launches India's first AI-based forest alert system using satellite data and ML to detect illegal logging and improve real time forest conservation.\u001b[0m\u001b[32;1m\u001b[1;3mAction: get_current_weather\n",
      "Action Input: Madhya Pradesh\u001b[0m\u001b[33;1m\u001b[1;3m{'coord': {'lon': 78.5, 'lat': 23.5}, 'weather': [{'id': 802, 'main': 'Clouds', 'description': 'scattered clouds', 'icon': '03d'}], 'base': 'stations', 'main': {'temp': 300.42, 'feels_like': 302.66, 'temp_min': 300.42, 'temp_max': 300.42, 'pressure': 1010, 'humidity': 72, 'sea_level': 1010, 'grnd_level': 948}, 'visibility': 10000, 'wind': {'speed': 4.74, 'deg': 24, 'gust': 5.8}, 'clouds': {'all': 43}, 'dt': 1759467780, 'sys': {'country': 'IN', 'sunrise': 1759451893, 'sunset': 1759494704}, 'timezone': 19800, 'id': 1264542, 'name': 'Madhya Pradesh', 'cod': 200}\u001b[0m\u001b[32;1m\u001b[1;3mI now know the final answer\n",
      "Final Answer: Madhya Pradesh, often called the “Heart of India,” is a state known for its cultural diversity, historical significance, and natural beauty. It is famous for its forts, temples, wildlife tourism, and archaeological Buddhist sites. The current weather condition in Madhya Pradesh is scattered clouds with a temperature of 300.42 Kelvin (approximately 27.27°C). The humidity is 72%, and the wind speed is 4.74 m/s.\u001b[0m\n",
      "\n",
      "\u001b[1m> Finished chain.\u001b[0m\n"
     ]
    }
   ],
   "source": [
    "# Step 5: Invoke\n",
    "response = agent_executor.invoke({\"input\": \"What is the Madhya Pradesh and its weather conditiion?\"})"
   ]
  },
  {
   "cell_type": "code",
   "execution_count": 49,
   "id": "f8efb3d5",
   "metadata": {},
   "outputs": [
    {
     "data": {
      "text/plain": [
       "'Madhya Pradesh, often called the “Heart of India,” is a state known for its cultural diversity, historical significance, and natural beauty. It is famous for its forts, temples, wildlife tourism, and archaeological Buddhist sites. The current weather condition in Madhya Pradesh is scattered clouds with a temperature of 300.42 Kelvin (approximately 27.27°C). The humidity is 72%, and the wind speed is 4.74 m/s.'"
      ]
     },
     "execution_count": 49,
     "metadata": {},
     "output_type": "execute_result"
    }
   ],
   "source": [
    "response['output']"
   ]
  }
 ],
 "metadata": {
  "kernelspec": {
   "display_name": "venv",
   "language": "python",
   "name": "python3"
  },
  "language_info": {
   "codemirror_mode": {
    "name": "ipython",
    "version": 3
   },
   "file_extension": ".py",
   "mimetype": "text/x-python",
   "name": "python",
   "nbconvert_exporter": "python",
   "pygments_lexer": "ipython3",
   "version": "3.13.5"
  }
 },
 "nbformat": 4,
 "nbformat_minor": 5
}
