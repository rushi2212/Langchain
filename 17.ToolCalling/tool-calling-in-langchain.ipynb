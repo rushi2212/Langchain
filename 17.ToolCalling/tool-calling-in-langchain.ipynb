{
 "cells": [
  {
   "cell_type": "code",
   "execution_count": null,
   "id": "09535f8f",
   "metadata": {},
   "outputs": [],
   "source": [
    "import os\n",
    "os.environ[\"GEMINI_API_KEY\"] = \"your_api_key_here\""
   ]
  },
  {
   "cell_type": "code",
   "execution_count": 49,
   "id": "4d9885a4",
   "metadata": {},
   "outputs": [
    {
     "name": "stdout",
     "output_type": "stream",
     "text": [
      "Note: you may need to restart the kernel to use updated packages.\n"
     ]
    }
   ],
   "source": [
    "%pip install -q langchain-google-genai langchain requests langchain-core"
   ]
  },
  {
   "cell_type": "code",
   "execution_count": 50,
   "id": "d3b93f6e",
   "metadata": {},
   "outputs": [],
   "source": [
    "from langchain_google_genai import ChatGoogleGenerativeAI\n",
    "from langchain_core.tools import tool\n",
    "from langchain_core.messages import HumanMessage\n",
    "import requests"
   ]
  },
  {
   "cell_type": "code",
   "execution_count": 51,
   "id": "dfa9bf96",
   "metadata": {},
   "outputs": [],
   "source": [
    "# tool create\n",
    "\n",
    "@tool\n",
    "def multiply(a: int, b: int) -> int:\n",
    "    \"\"\"Multiply two numbers a and b\"\"\"\n",
    "    return a * b"
   ]
  },
  {
   "cell_type": "code",
   "execution_count": 52,
   "id": "ae985d45",
   "metadata": {},
   "outputs": [
    {
     "name": "stdout",
     "output_type": "stream",
     "text": [
      "30\n"
     ]
    }
   ],
   "source": [
    "print(multiply.invoke({\"a\": 5, \"b\": 6}))"
   ]
  },
  {
   "cell_type": "code",
   "execution_count": 53,
   "id": "0e31371d",
   "metadata": {},
   "outputs": [],
   "source": [
    "# tool binding\n",
    "\n",
    "llm = ChatGoogleGenerativeAI(model=\"gemini-2.5-flash\")\n",
    "llm_with_tools = llm.bind_tools([multiply])"
   ]
  },
  {
   "cell_type": "code",
   "execution_count": 54,
   "id": "d5ff6003",
   "metadata": {},
   "outputs": [],
   "source": [
    "query = HumanMessage(\"Multiply 6 and 100\")"
   ]
  },
  {
   "cell_type": "code",
   "execution_count": 55,
   "id": "308a561b",
   "metadata": {},
   "outputs": [],
   "source": [
    "message = [query]"
   ]
  },
  {
   "cell_type": "code",
   "execution_count": 56,
   "id": "b789c4f5",
   "metadata": {},
   "outputs": [
    {
     "data": {
      "text/plain": [
       "[HumanMessage(content='Multiply 6 and 100', additional_kwargs={}, response_metadata={})]"
      ]
     },
     "execution_count": 56,
     "metadata": {},
     "output_type": "execute_result"
    }
   ],
   "source": [
    "message"
   ]
  },
  {
   "cell_type": "code",
   "execution_count": 57,
   "id": "87727f58",
   "metadata": {},
   "outputs": [],
   "source": [
    "# Test\n",
    "response = llm_with_tools.invoke(message)"
   ]
  },
  {
   "cell_type": "code",
   "execution_count": 58,
   "id": "81596ea9",
   "metadata": {},
   "outputs": [],
   "source": [
    "message.append(response)"
   ]
  },
  {
   "cell_type": "code",
   "execution_count": 59,
   "id": "382055bf",
   "metadata": {},
   "outputs": [
    {
     "data": {
      "text/plain": [
       "[HumanMessage(content='Multiply 6 and 100', additional_kwargs={}, response_metadata={}),\n",
       " AIMessage(content='', additional_kwargs={'function_call': {'name': 'multiply', 'arguments': '{\"b\": 100, \"a\": 6}'}}, response_metadata={'prompt_feedback': {'block_reason': 0, 'safety_ratings': []}, 'finish_reason': 'STOP', 'model_name': 'gemini-2.5-flash', 'safety_ratings': []}, id='run--4d7caa5b-4fed-4e61-8a95-7c0d931e68e6-0', tool_calls=[{'name': 'multiply', 'args': {'b': 100, 'a': 6}, 'id': 'f7e60a6b-7104-4ec6-a3dd-5e76e4f3c243', 'type': 'tool_call'}], usage_metadata={'input_tokens': 56, 'output_tokens': 73, 'total_tokens': 129, 'input_token_details': {'cache_read': 0}, 'output_token_details': {'reasoning': 53}})]"
      ]
     },
     "execution_count": 59,
     "metadata": {},
     "output_type": "execute_result"
    }
   ],
   "source": [
    "message"
   ]
  },
  {
   "cell_type": "code",
   "execution_count": 60,
   "id": "5429d17d",
   "metadata": {},
   "outputs": [
    {
     "data": {
      "text/plain": [
       "600"
      ]
     },
     "execution_count": 60,
     "metadata": {},
     "output_type": "execute_result"
    }
   ],
   "source": [
    "multiply.invoke(response.tool_calls[0]['args'])"
   ]
  },
  {
   "cell_type": "code",
   "execution_count": 61,
   "id": "bdaeb7bf",
   "metadata": {},
   "outputs": [],
   "source": [
    "tool_result=multiply.invoke(response.tool_calls[0])"
   ]
  },
  {
   "cell_type": "code",
   "execution_count": 62,
   "id": "e36e1367",
   "metadata": {},
   "outputs": [],
   "source": [
    "message.append(tool_result)"
   ]
  },
  {
   "cell_type": "code",
   "execution_count": 63,
   "id": "2992512f",
   "metadata": {},
   "outputs": [
    {
     "data": {
      "text/plain": [
       "[HumanMessage(content='Multiply 6 and 100', additional_kwargs={}, response_metadata={}),\n",
       " AIMessage(content='', additional_kwargs={'function_call': {'name': 'multiply', 'arguments': '{\"b\": 100, \"a\": 6}'}}, response_metadata={'prompt_feedback': {'block_reason': 0, 'safety_ratings': []}, 'finish_reason': 'STOP', 'model_name': 'gemini-2.5-flash', 'safety_ratings': []}, id='run--4d7caa5b-4fed-4e61-8a95-7c0d931e68e6-0', tool_calls=[{'name': 'multiply', 'args': {'b': 100, 'a': 6}, 'id': 'f7e60a6b-7104-4ec6-a3dd-5e76e4f3c243', 'type': 'tool_call'}], usage_metadata={'input_tokens': 56, 'output_tokens': 73, 'total_tokens': 129, 'input_token_details': {'cache_read': 0}, 'output_token_details': {'reasoning': 53}}),\n",
       " ToolMessage(content='600', name='multiply', tool_call_id='f7e60a6b-7104-4ec6-a3dd-5e76e4f3c243')]"
      ]
     },
     "execution_count": 63,
     "metadata": {},
     "output_type": "execute_result"
    }
   ],
   "source": [
    "message"
   ]
  },
  {
   "cell_type": "code",
   "execution_count": 64,
   "id": "ff07b0c1",
   "metadata": {},
   "outputs": [
    {
     "data": {
      "text/plain": [
       "'The product of 6 and 100 is 600.'"
      ]
     },
     "execution_count": 64,
     "metadata": {},
     "output_type": "execute_result"
    }
   ],
   "source": [
    "llm_with_tools.invoke(message).content"
   ]
  }
 ],
 "metadata": {
  "kernelspec": {
   "display_name": "venv",
   "language": "python",
   "name": "python3"
  },
  "language_info": {
   "codemirror_mode": {
    "name": "ipython",
    "version": 3
   },
   "file_extension": ".py",
   "mimetype": "text/x-python",
   "name": "python",
   "nbconvert_exporter": "python",
   "pygments_lexer": "ipython3",
   "version": "3.13.5"
  }
 },
 "nbformat": 4,
 "nbformat_minor": 5
}
