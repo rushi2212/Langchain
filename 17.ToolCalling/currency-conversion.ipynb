{
 "cells": [
  {
   "cell_type": "code",
   "execution_count": null,
   "id": "5cfa1ac2",
   "metadata": {},
   "outputs": [],
   "source": [
    "import os\n",
    "os.environ[\"GEMINI_API_KEY\"] = \"your_api_key_here\""
   ]
  },
  {
   "cell_type": "code",
   "execution_count": 58,
   "id": "9fd7148a",
   "metadata": {},
   "outputs": [
    {
     "name": "stdout",
     "output_type": "stream",
     "text": [
      "Note: you may need to restart the kernel to use updated packages.\n"
     ]
    }
   ],
   "source": [
    "%pip install -q langchain-google-genai langchain requests langchain-core"
   ]
  },
  {
   "cell_type": "code",
   "execution_count": 59,
   "id": "d39f8507",
   "metadata": {},
   "outputs": [],
   "source": [
    "from langchain_google_genai import ChatGoogleGenerativeAI\n",
    "from langchain_core.tools import tool\n",
    "from langchain_core.messages import HumanMessage\n",
    "import requests"
   ]
  },
  {
   "cell_type": "code",
   "execution_count": 60,
   "id": "c3f0479f",
   "metadata": {},
   "outputs": [],
   "source": [
    "#tool create\n",
    "\n",
    "from langchain_core.tools import InjectedToolArg\n",
    "from typing import Annotated\n",
    "\n",
    "@tool\n",
    "def get_conversion_factor(base_currency: str, target_currency: str) -> float:\n",
    "    \"\"\"This function fetches the currency conversion factor from base_currency to target_currency.\"\"\"\n",
    "\n",
    "    url = f\"https://v6.exchangerate-api.com/v6/b553a3885fbcc84b2d96fd3d/pair/{base_currency}/{target_currency}\"\n",
    "\n",
    "    response = requests.get(url)\n",
    "    return response.json()\n",
    "\n",
    "@tool\n",
    "def convert(base_currency: int, conversion_rate: Annotated[float, InjectedToolArg]) -> float:\n",
    "    \"\"\"given a currency conversion rate and base currency, it returns the converted currency\"\"\"\n",
    "    return base_currency * conversion_rate\n",
    "    "
   ]
  },
  {
   "cell_type": "code",
   "execution_count": 61,
   "id": "9604f929",
   "metadata": {},
   "outputs": [
    {
     "data": {
      "text/plain": [
       "{'result': 'success',\n",
       " 'documentation': 'https://www.exchangerate-api.com/docs',\n",
       " 'terms_of_use': 'https://www.exchangerate-api.com/terms',\n",
       " 'time_last_update_unix': 1759363202,\n",
       " 'time_last_update_utc': 'Thu, 02 Oct 2025 00:00:02 +0000',\n",
       " 'time_next_update_unix': 1759449602,\n",
       " 'time_next_update_utc': 'Fri, 03 Oct 2025 00:00:02 +0000',\n",
       " 'base_code': 'USD',\n",
       " 'target_code': 'INR',\n",
       " 'conversion_rate': 88.7311}"
      ]
     },
     "execution_count": 61,
     "metadata": {},
     "output_type": "execute_result"
    }
   ],
   "source": [
    "get_conversion_factor({\"base_currency\": \"USD\", \"target_currency\": \"INR\"})"
   ]
  },
  {
   "cell_type": "code",
   "execution_count": 62,
   "id": "b1cbb934",
   "metadata": {},
   "outputs": [
    {
     "data": {
      "text/plain": [
       "8250.0"
      ]
     },
     "execution_count": 62,
     "metadata": {},
     "output_type": "execute_result"
    }
   ],
   "source": [
    "convert.invoke({\"base_currency\": 100, \"conversion_rate\": 82.5})"
   ]
  },
  {
   "cell_type": "code",
   "execution_count": 63,
   "id": "18daee69",
   "metadata": {},
   "outputs": [],
   "source": [
    "# tool binding\n",
    "\n",
    "llm = ChatGoogleGenerativeAI(model=\"gemini-2.5-flash\")\n",
    "llm_with_tools = llm.bind_tools([get_conversion_factor, convert])"
   ]
  },
  {
   "cell_type": "code",
   "execution_count": 64,
   "id": "d6975319",
   "metadata": {},
   "outputs": [],
   "source": [
    "messages = [HumanMessage(\"What is the conversion rate from USD to INR? Convert 100 USD to INR\")]"
   ]
  },
  {
   "cell_type": "code",
   "execution_count": 65,
   "id": "3d63b36d",
   "metadata": {},
   "outputs": [
    {
     "data": {
      "text/plain": [
       "[HumanMessage(content='What is the conversion rate from USD to INR? Convert 100 USD to INR', additional_kwargs={}, response_metadata={})]"
      ]
     },
     "execution_count": 65,
     "metadata": {},
     "output_type": "execute_result"
    }
   ],
   "source": [
    "messages"
   ]
  },
  {
   "cell_type": "code",
   "execution_count": 66,
   "id": "beab826f",
   "metadata": {},
   "outputs": [],
   "source": [
    "ai_message = llm_with_tools.invoke(messages)"
   ]
  },
  {
   "cell_type": "code",
   "execution_count": 67,
   "id": "26dc3f1b",
   "metadata": {},
   "outputs": [],
   "source": [
    "messages.append(ai_message)"
   ]
  },
  {
   "cell_type": "code",
   "execution_count": 68,
   "id": "5f07c4e7",
   "metadata": {},
   "outputs": [
    {
     "data": {
      "text/plain": [
       "[{'name': 'get_conversion_factor',\n",
       "  'args': {'target_currency': 'INR', 'base_currency': 'USD'},\n",
       "  'id': 'd9f6bca0-f321-40d0-a0d4-72c4fcd05a2a',\n",
       "  'type': 'tool_call'}]"
      ]
     },
     "execution_count": 68,
     "metadata": {},
     "output_type": "execute_result"
    }
   ],
   "source": [
    "ai_message.tool_calls"
   ]
  },
  {
   "cell_type": "code",
   "execution_count": 69,
   "id": "0bbf6c39",
   "metadata": {},
   "outputs": [
    {
     "name": "stdout",
     "output_type": "stream",
     "text": [
      "content='{\"result\": \"success\", \"documentation\": \"https://www.exchangerate-api.com/docs\", \"terms_of_use\": \"https://www.exchangerate-api.com/terms\", \"time_last_update_unix\": 1759363202, \"time_last_update_utc\": \"Thu, 02 Oct 2025 00:00:02 +0000\", \"time_next_update_unix\": 1759449602, \"time_next_update_utc\": \"Fri, 03 Oct 2025 00:00:02 +0000\", \"base_code\": \"USD\", \"target_code\": \"INR\", \"conversion_rate\": 88.7311}' name='get_conversion_factor' tool_call_id='d9f6bca0-f321-40d0-a0d4-72c4fcd05a2a'\n"
     ]
    }
   ],
   "source": [
    "import json\n",
    "\n",
    "for tool_call in ai_message.tool_calls:\n",
    "    #execute the first tool and get the value of conversion rate\n",
    "    if tool_call['name'] == \"get_conversion_factor\":\n",
    "        tool_message1 = get_conversion_factor.invoke(tool_call)\n",
    "        print(tool_message1)\n",
    "        #fetch this conversion rate\n",
    "        conversion_rate = json.loads(tool_message1.content)['conversion_rate']\n",
    "        # append this tool message to the messages list\n",
    "        messages.append(tool_message1)\n",
    "\n",
    "    if tool_call['name'] == \"convert\":\n",
    "        #fetch the current arg\n",
    "        tool_call['arguments']['conversion_rate'] = conversion_rate\n",
    "        tool_message2 = convert.invoke(tool_call)\n",
    "        messages.append(tool_message2)\n"
   ]
  },
  {
   "cell_type": "code",
   "execution_count": 70,
   "id": "d3763715",
   "metadata": {},
   "outputs": [
    {
     "data": {
      "text/plain": [
       "[HumanMessage(content='What is the conversion rate from USD to INR? Convert 100 USD to INR', additional_kwargs={}, response_metadata={}),\n",
       " AIMessage(content='', additional_kwargs={'function_call': {'name': 'get_conversion_factor', 'arguments': '{\"target_currency\": \"INR\", \"base_currency\": \"USD\"}'}}, response_metadata={'prompt_feedback': {'block_reason': 0, 'safety_ratings': []}, 'finish_reason': 'STOP', 'model_name': 'gemini-2.5-flash', 'safety_ratings': []}, id='run--f24330d1-b03d-44c4-8465-bfdde7971dab-0', tool_calls=[{'name': 'get_conversion_factor', 'args': {'target_currency': 'INR', 'base_currency': 'USD'}, 'id': 'd9f6bca0-f321-40d0-a0d4-72c4fcd05a2a', 'type': 'tool_call'}], usage_metadata={'input_tokens': 136, 'output_tokens': 347, 'total_tokens': 483, 'input_token_details': {'cache_read': 0}, 'output_token_details': {'reasoning': 321}}),\n",
       " ToolMessage(content='{\"result\": \"success\", \"documentation\": \"https://www.exchangerate-api.com/docs\", \"terms_of_use\": \"https://www.exchangerate-api.com/terms\", \"time_last_update_unix\": 1759363202, \"time_last_update_utc\": \"Thu, 02 Oct 2025 00:00:02 +0000\", \"time_next_update_unix\": 1759449602, \"time_next_update_utc\": \"Fri, 03 Oct 2025 00:00:02 +0000\", \"base_code\": \"USD\", \"target_code\": \"INR\", \"conversion_rate\": 88.7311}', name='get_conversion_factor', tool_call_id='d9f6bca0-f321-40d0-a0d4-72c4fcd05a2a')]"
      ]
     },
     "execution_count": 70,
     "metadata": {},
     "output_type": "execute_result"
    }
   ],
   "source": [
    "messages"
   ]
  },
  {
   "cell_type": "code",
   "execution_count": 71,
   "id": "907ce555",
   "metadata": {},
   "outputs": [
    {
     "data": {
      "text/plain": [
       "'The conversion rate from USD to INR is 88.7311.\\n100 USD is equal to 8873.11 INR.'"
      ]
     },
     "execution_count": 71,
     "metadata": {},
     "output_type": "execute_result"
    }
   ],
   "source": [
    "llm_with_tools.invoke(messages).content"
   ]
  }
 ],
 "metadata": {
  "kernelspec": {
   "display_name": "venv",
   "language": "python",
   "name": "python3"
  },
  "language_info": {
   "codemirror_mode": {
    "name": "ipython",
    "version": 3
   },
   "file_extension": ".py",
   "mimetype": "text/x-python",
   "name": "python",
   "nbconvert_exporter": "python",
   "pygments_lexer": "ipython3",
   "version": "3.13.5"
  }
 },
 "nbformat": 4,
 "nbformat_minor": 5
}
