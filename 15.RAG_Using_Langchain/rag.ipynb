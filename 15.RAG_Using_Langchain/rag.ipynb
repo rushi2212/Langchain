{
 "cells": [
  {
   "cell_type": "code",
   "execution_count": null,
   "id": "5ee1dd4f",
   "metadata": {},
   "outputs": [],
   "source": [
    "import os\n",
    "os.environ[\"HUGGINGFACEHUB_API_TOKEN\"] = \"Your_HuggingFace_API_Token\"\n",
    "os.environ[\"GEMINI_API_KEY\"] = \"Your_Gemini_API_Key\""
   ]
  },
  {
   "cell_type": "code",
   "execution_count": 159,
   "id": "73708911",
   "metadata": {},
   "outputs": [],
   "source": [
    "from youtube_transcript_api import YouTubeTranscriptApi, TranscriptsDisabled\n",
    "from langchain.text_splitter import RecursiveCharacterTextSplitter\n",
    "from langchain_huggingface import HuggingFaceEmbeddings\n",
    "from langchain_community.vectorstores import FAISS\n",
    "from langchain_core.prompts import PromptTemplate\n",
    "from langchain_google_genai import ChatGoogleGenerativeAI"
   ]
  },
  {
   "cell_type": "code",
   "execution_count": 160,
   "id": "7aa80eb8",
   "metadata": {},
   "outputs": [
    {
     "name": "stdout",
     "output_type": "stream",
     "text": [
      "in this video we're going to talk about nuclear fission unstable radioactive nuclei which occur naturally sometimes emits strong radiations especially in isotopes of uranium like uranium-238 or uranium-235 the disintegration converts the uranium isotope into stable lead and in the process emits energy in the range of one to five mega electron volts that's one to five million electron volts and even higher amounts of energy can be released by breaking unstable nuclei into even more parts in 1939 a german scientist named otto han discovered that breaking up the nucleus of uranium-235 into two parts emits 200 million times the energy of the neutron which triggered it he along with his two colleagues lisa meitner and fritz strassmann found that when the nucleus of uranium-235 is bombarded with neutrons it will absorb one of the neutrons this results in an unstable compound nucleus and the nucleus breaks into two equal parts this process is referred to as nuclear fission so a process in which heavy nuclei are bombarded with neutrons and split into two equal masses releasing enormous amounts of energy is called nuclear fission in the process uranium-235 initially absorbs a slow-moving neutron thus forming a highly unstable compound nucleus uranium-236 this is what triggers the nuclear reaction during the process of fission uranium-236 splits into two product nuclei which are barium-141 and krypton 92 you should notice that a barium atom has 56 protons and a krypton atom has 36 protons which add up to the uranium atom's 92 protons the unstable uranium-236 nucleus also releases three neutrons in the process this happens because barium-141 has 141 neutrons and krypton 92 has 92 neutrons adding up to a total of 233 neutrons to balance the equation uranium-236 must emit three more neutrons the chemical equation of the nuclear fission reaction taking place can be represented by this equation so as you can see from the equation one neutron combines with uranium-235 forming an unstable compound nucleus uranium-236 this unstable nucleus splits into two stable nuclei barium-141 and krypton 92. in addition to these two nuclei three neutrons are also emitted as well as a high amount of energy denoted in the equation by q since uranium-236 emits three neutrons in the reaction these neutrons can be absorbed by other uranium-235 nuclei resulting in a chain reaction this leads to exponentially high amounts of energy being released by a single reaction so in this video we've covered that nuclear fission reactions result in massive amounts of energy being released now these nuclear reactions are most well known for the part they play in nuclear bombs but they are also an essential part of nuclear reactors which have the capability to provide mass amounts of energy with relatively low cost but that's a different topic altogether\n"
     ]
    }
   ],
   "source": [
    "video_id = \"mBdVK4cqiFs\"\n",
    "\n",
    "try:\n",
    "    transcript_list = YouTubeTranscriptApi.get_transcript(video_id)\n",
    "    transcript = \" \".join([chunk[\"text\"] for chunk in transcript_list])\n",
    "    print(transcript)\n",
    "except TranscriptsDisabled:\n",
    "    print(\"Transcript is disabled for this video\")"
   ]
  },
  {
   "cell_type": "markdown",
   "id": "1cb58a6e",
   "metadata": {},
   "source": [
    "Step 1b - Indexing (Text Splitting)"
   ]
  },
  {
   "cell_type": "code",
   "execution_count": 161,
   "id": "afde5076",
   "metadata": {},
   "outputs": [],
   "source": [
    "splitter = RecursiveCharacterTextSplitter(chunk_size=1000, chunk_overlap=200)\n",
    "chunks = splitter.create_documents([transcript])"
   ]
  },
  {
   "cell_type": "markdown",
   "id": "c9b41399",
   "metadata": {},
   "source": [
    "Step 1c & 1d - Indexing (Embedding Generation and Storing in Vector Store)"
   ]
  },
  {
   "cell_type": "code",
   "execution_count": 162,
   "id": "cf9e3dc7",
   "metadata": {},
   "outputs": [],
   "source": [
    "embedding_function = HuggingFaceEmbeddings(model_name=\"sentence-transformers/all-MiniLM-L6-v2\")\n",
    "vector_store = FAISS.from_documents(chunks, embedding_function)"
   ]
  },
  {
   "cell_type": "code",
   "execution_count": null,
   "id": "3e8fc140",
   "metadata": {},
   "outputs": [
    {
     "data": {
      "text/plain": [
       "{0: 'e6630e97-8486-49d6-afb7-4d50913dc585',\n",
       " 1: '15b32a18-a599-4e0b-bba9-8cdb1199b6b4',\n",
       " 2: '42cab7e0-0dcf-4265-8243-678cfe214521',\n",
       " 3: '4268f98f-9a02-48b9-9f50-874eb58c2e31'}"
      ]
     },
     "execution_count": 163,
     "metadata": {},
     "output_type": "execute_result"
    }
   ],
   "source": [
    "vector_store.index_to_docstore_id"
   ]
  },
  {
   "cell_type": "code",
   "execution_count": 164,
   "id": "66b1e344",
   "metadata": {},
   "outputs": [
    {
     "data": {
      "text/plain": [
       "[]"
      ]
     },
     "execution_count": 164,
     "metadata": {},
     "output_type": "execute_result"
    }
   ],
   "source": [
    "vector_store.get_by_ids(['4269a815-53d8-451e-bb98-ae249771d3c3'])"
   ]
  },
  {
   "cell_type": "markdown",
   "id": "7be1949c",
   "metadata": {},
   "source": [
    "Step 2 - Retrieval"
   ]
  },
  {
   "cell_type": "code",
   "execution_count": 165,
   "id": "30ee7747",
   "metadata": {},
   "outputs": [],
   "source": [
    "retriever = vector_store.as_retriever(search_type=\"similarity\", search_kwargs={\"k\":4})"
   ]
  },
  {
   "cell_type": "code",
   "execution_count": 166,
   "id": "d63a3130",
   "metadata": {},
   "outputs": [],
   "source": [
    "#retriever.invoke(\"What is the main topic of the video?\")"
   ]
  },
  {
   "cell_type": "code",
   "execution_count": 167,
   "id": "c6be3fae",
   "metadata": {},
   "outputs": [],
   "source": [
    "llm = ChatGoogleGenerativeAI(model=\"gemini-2.5-flash\", temperature=0.2)"
   ]
  },
  {
   "cell_type": "code",
   "execution_count": 168,
   "id": "5443ae8a",
   "metadata": {},
   "outputs": [],
   "source": [
    "prompt = PromptTemplate(\n",
    "    template=\"Answer the question based on the context below.\\n\\nContext: {context}\\n\\nQuestion: {question}\\n\\nAnswer:\",\n",
    "    input_variables=[\"context\", \"question\"]\n",
    ")"
   ]
  },
  {
   "cell_type": "code",
   "execution_count": 169,
   "id": "0c99c60a",
   "metadata": {},
   "outputs": [],
   "source": [
    "question = \"Is nuclear fission discussed in the video?If yes, what is the explanation provided?\"\n",
    "retrieved_docs = retriever.invoke(question)"
   ]
  },
  {
   "cell_type": "code",
   "execution_count": 170,
   "id": "977d094a",
   "metadata": {},
   "outputs": [],
   "source": [
    "context_text = \"\\n\\n\".join([doc.page_content for doc in retrieved_docs])"
   ]
  },
  {
   "cell_type": "code",
   "execution_count": 171,
   "id": "04250757",
   "metadata": {},
   "outputs": [],
   "source": [
    "final_prompt = prompt.invoke({\"context\":context_text, \"question\":question})"
   ]
  },
  {
   "cell_type": "markdown",
   "id": "41996e4a",
   "metadata": {},
   "source": [
    "Step 4 - Generation"
   ]
  },
  {
   "cell_type": "code",
   "execution_count": 172,
   "id": "f960e854",
   "metadata": {},
   "outputs": [
    {
     "name": "stdout",
     "output_type": "stream",
     "text": [
      "content=\"Yes, nuclear fission is discussed in the video.\\n\\n**Explanation provided:**\\nNuclear fission is defined as a process in which heavy nuclei are bombarded with neutrons and split into two equal masses, releasing enormous amounts of energy.\\n\\nThe process is explained as follows:\\n1.  Unstable radioactive nuclei, such as uranium-235, can emit strong radiations.\\n2.  When the nucleus of uranium-235 is bombarded with a neutron, it absorbs the neutron, forming a highly unstable compound nucleus, uranium-236.\\n3.  This unstable uranium-236 nucleus then splits into two product nuclei: barium-141 and krypton-92.\\n4.  In addition to these two nuclei, three neutrons are also emitted, along with a high amount of energy (denoted as 'q' in the chemical equation). For instance, breaking up uranium-235 emits 200 million times the energy of the neutron which triggered it.\\n5.  The three neutrons emitted can then be absorbed by other uranium-235 nuclei, leading to a chain reaction that results in exponentially high amounts of energy being released.\\n\\nThe discovery of this process was made in 1939 by German scientist Otto Hahn, along with his colleagues Lisa Meitner and Fritz Strassmann.\" additional_kwargs={} response_metadata={'prompt_feedback': {'block_reason': 0, 'safety_ratings': []}, 'finish_reason': 'STOP', 'safety_ratings': []} id='run--25fdf498-ece2-45c7-a47c-b54da956cbb9-0' usage_metadata={'input_tokens': 744, 'output_tokens': 274, 'total_tokens': 1971, 'input_token_details': {'cache_read': 0}}\n"
     ]
    }
   ],
   "source": [
    "answer = llm.invoke(final_prompt)\n",
    "print(answer)"
   ]
  },
  {
   "cell_type": "code",
   "execution_count": 173,
   "id": "25f5d18f",
   "metadata": {},
   "outputs": [],
   "source": [
    "from langchain_core.runnables import RunnableParallel, RunnablePassthrough, RunnableLambda\n",
    "from langchain_core.output_parsers import StrOutputParser"
   ]
  },
  {
   "cell_type": "code",
   "execution_count": 174,
   "id": "9c446d57",
   "metadata": {},
   "outputs": [],
   "source": [
    "def format_docs(retrieved_docs):\n",
    "    context_text = \"\\n\\n\".join(doc.page_content for doc in retrieved_docs)\n",
    "    return context_text"
   ]
  },
  {
   "cell_type": "code",
   "execution_count": 175,
   "id": "cbfc2ffe",
   "metadata": {},
   "outputs": [],
   "source": [
    "parallel_chain = RunnableParallel({\n",
    "    'context' : retriever | RunnableLambda(format_docs),\n",
    "    'question' : RunnablePassthrough()\n",
    "})"
   ]
  },
  {
   "cell_type": "code",
   "execution_count": 176,
   "id": "e138b35f",
   "metadata": {},
   "outputs": [
    {
     "data": {
      "text/plain": [
       "{'context': \"neutrons in the process this happens because barium-141 has 141 neutrons and krypton 92 has 92 neutrons adding up to a total of 233 neutrons to balance the equation uranium-236 must emit three more neutrons the chemical equation of the nuclear fission reaction taking place can be represented by this equation so as you can see from the equation one neutron combines with uranium-235 forming an unstable compound nucleus uranium-236 this unstable nucleus splits into two stable nuclei barium-141 and krypton 92. in addition to these two nuclei three neutrons are also emitted as well as a high amount of energy denoted in the equation by q since uranium-236 emits three neutrons in the reaction these neutrons can be absorbed by other uranium-235 nuclei resulting in a chain reaction this leads to exponentially high amounts of energy being released by a single reaction so in this video we've covered that nuclear fission reactions result in massive amounts of energy being released now these\\n\\nin this video we're going to talk about nuclear fission unstable radioactive nuclei which occur naturally sometimes emits strong radiations especially in isotopes of uranium like uranium-238 or uranium-235 the disintegration converts the uranium isotope into stable lead and in the process emits energy in the range of one to five mega electron volts that's one to five million electron volts and even higher amounts of energy can be released by breaking unstable nuclei into even more parts in 1939 a german scientist named otto han discovered that breaking up the nucleus of uranium-235 into two parts emits 200 million times the energy of the neutron which triggered it he along with his two colleagues lisa meitner and fritz strassmann found that when the nucleus of uranium-235 is bombarded with neutrons it will absorb one of the neutrons this results in an unstable compound nucleus and the nucleus breaks into two equal parts this process is referred to as nuclear fission so a process in\\n\\nneutrons it will absorb one of the neutrons this results in an unstable compound nucleus and the nucleus breaks into two equal parts this process is referred to as nuclear fission so a process in which heavy nuclei are bombarded with neutrons and split into two equal masses releasing enormous amounts of energy is called nuclear fission in the process uranium-235 initially absorbs a slow-moving neutron thus forming a highly unstable compound nucleus uranium-236 this is what triggers the nuclear reaction during the process of fission uranium-236 splits into two product nuclei which are barium-141 and krypton 92 you should notice that a barium atom has 56 protons and a krypton atom has 36 protons which add up to the uranium atom's 92 protons the unstable uranium-236 nucleus also releases three neutrons in the process this happens because barium-141 has 141 neutrons and krypton 92 has 92 neutrons adding up to a total of 233 neutrons to balance the equation uranium-236 must emit three more\\n\\nto exponentially high amounts of energy being released by a single reaction so in this video we've covered that nuclear fission reactions result in massive amounts of energy being released now these nuclear reactions are most well known for the part they play in nuclear bombs but they are also an essential part of nuclear reactors which have the capability to provide mass amounts of energy with relatively low cost but that's a different topic altogether\",\n",
       " 'question': 'Who is Demis'}"
      ]
     },
     "execution_count": 176,
     "metadata": {},
     "output_type": "execute_result"
    }
   ],
   "source": [
    "parallel_chain.invoke('Who is Demis')"
   ]
  },
  {
   "cell_type": "code",
   "execution_count": 177,
   "id": "39648ff9",
   "metadata": {},
   "outputs": [],
   "source": [
    "parser = StrOutputParser()"
   ]
  },
  {
   "cell_type": "code",
   "execution_count": 178,
   "id": "2de732a0",
   "metadata": {},
   "outputs": [],
   "source": [
    "main_chain = parallel_chain | prompt | llm | parser"
   ]
  },
  {
   "cell_type": "code",
   "execution_count": 179,
   "id": "b8eb9a7c",
   "metadata": {},
   "outputs": [
    {
     "data": {
      "text/plain": [
       "'This video explains nuclear fission as the process where heavy nuclei, such as uranium-235, are bombarded by neutrons, causing them to split into two parts, releasing massive amounts of energy and additional neutrons that can trigger a chain reaction.'"
      ]
     },
     "execution_count": 179,
     "metadata": {},
     "output_type": "execute_result"
    }
   ],
   "source": [
    "main_chain.invoke(\"summarize the content of the video in a sentence\")"
   ]
  }
 ],
 "metadata": {
  "kernelspec": {
   "display_name": "venv",
   "language": "python",
   "name": "python3"
  },
  "language_info": {
   "codemirror_mode": {
    "name": "ipython",
    "version": 3
   },
   "file_extension": ".py",
   "mimetype": "text/x-python",
   "name": "python",
   "nbconvert_exporter": "python",
   "pygments_lexer": "ipython3",
   "version": "3.13.5"
  }
 },
 "nbformat": 4,
 "nbformat_minor": 5
}
